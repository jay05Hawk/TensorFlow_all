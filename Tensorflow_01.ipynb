{
  "nbformat": 4,
  "nbformat_minor": 0,
  "metadata": {
    "colab": {
      "provenance": [],
      "authorship_tag": "ABX9TyPl/IkLMNqtGMEOJlA44UYu",
      "include_colab_link": true
    },
    "kernelspec": {
      "name": "python3",
      "display_name": "Python 3"
    },
    "language_info": {
      "name": "python"
    },
    "accelerator": "GPU",
    "gpuClass": "standard"
  },
  "cells": [
    {
      "cell_type": "markdown",
      "metadata": {
        "id": "view-in-github",
        "colab_type": "text"
      },
      "source": [
        "<a href=\"https://colab.research.google.com/github/jay05Hawk/TensorFlow_all/blob/main/Tensorflow_01.ipynb\" target=\"_parent\"><img src=\"https://colab.research.google.com/assets/colab-badge.svg\" alt=\"Open In Colab\"/></a>"
      ]
    },
    {
      "cell_type": "code",
      "execution_count": 1,
      "metadata": {
        "id": "S-YzUwGPS5mq",
        "colab": {
          "base_uri": "https://localhost:8080/"
        },
        "outputId": "a69c0d3a-3162-43c0-d3d7-8c100d9089a8"
      },
      "outputs": [
        {
          "output_type": "stream",
          "name": "stdout",
          "text": [
            "Looking in indexes: https://pypi.org/simple, https://us-python.pkg.dev/colab-wheels/public/simple/\n",
            "Requirement already satisfied: tensorflow in /usr/local/lib/python3.8/dist-packages (2.9.2)\n",
            "Requirement already satisfied: tensorflow-io-gcs-filesystem>=0.23.1 in /usr/local/lib/python3.8/dist-packages (from tensorflow) (0.29.0)\n",
            "Requirement already satisfied: tensorboard<2.10,>=2.9 in /usr/local/lib/python3.8/dist-packages (from tensorflow) (2.9.1)\n",
            "Requirement already satisfied: wrapt>=1.11.0 in /usr/local/lib/python3.8/dist-packages (from tensorflow) (1.14.1)\n",
            "Requirement already satisfied: absl-py>=1.0.0 in /usr/local/lib/python3.8/dist-packages (from tensorflow) (1.3.0)\n",
            "Requirement already satisfied: flatbuffers<2,>=1.12 in /usr/local/lib/python3.8/dist-packages (from tensorflow) (1.12)\n",
            "Requirement already satisfied: h5py>=2.9.0 in /usr/local/lib/python3.8/dist-packages (from tensorflow) (3.1.0)\n",
            "Requirement already satisfied: packaging in /usr/local/lib/python3.8/dist-packages (from tensorflow) (21.3)\n",
            "Requirement already satisfied: setuptools in /usr/local/lib/python3.8/dist-packages (from tensorflow) (57.4.0)\n",
            "Requirement already satisfied: keras<2.10.0,>=2.9.0rc0 in /usr/local/lib/python3.8/dist-packages (from tensorflow) (2.9.0)\n",
            "Requirement already satisfied: termcolor>=1.1.0 in /usr/local/lib/python3.8/dist-packages (from tensorflow) (2.2.0)\n",
            "Requirement already satisfied: libclang>=13.0.0 in /usr/local/lib/python3.8/dist-packages (from tensorflow) (15.0.6.1)\n",
            "Requirement already satisfied: typing-extensions>=3.6.6 in /usr/local/lib/python3.8/dist-packages (from tensorflow) (4.4.0)\n",
            "Requirement already satisfied: six>=1.12.0 in /usr/local/lib/python3.8/dist-packages (from tensorflow) (1.15.0)\n",
            "Requirement already satisfied: tensorflow-estimator<2.10.0,>=2.9.0rc0 in /usr/local/lib/python3.8/dist-packages (from tensorflow) (2.9.0)\n",
            "Requirement already satisfied: google-pasta>=0.1.1 in /usr/local/lib/python3.8/dist-packages (from tensorflow) (0.2.0)\n",
            "Requirement already satisfied: grpcio<2.0,>=1.24.3 in /usr/local/lib/python3.8/dist-packages (from tensorflow) (1.51.1)\n",
            "Requirement already satisfied: gast<=0.4.0,>=0.2.1 in /usr/local/lib/python3.8/dist-packages (from tensorflow) (0.4.0)\n",
            "Requirement already satisfied: protobuf<3.20,>=3.9.2 in /usr/local/lib/python3.8/dist-packages (from tensorflow) (3.19.6)\n",
            "Requirement already satisfied: numpy>=1.20 in /usr/local/lib/python3.8/dist-packages (from tensorflow) (1.21.6)\n",
            "Requirement already satisfied: astunparse>=1.6.0 in /usr/local/lib/python3.8/dist-packages (from tensorflow) (1.6.3)\n",
            "Requirement already satisfied: opt-einsum>=2.3.2 in /usr/local/lib/python3.8/dist-packages (from tensorflow) (3.3.0)\n",
            "Requirement already satisfied: keras-preprocessing>=1.1.1 in /usr/local/lib/python3.8/dist-packages (from tensorflow) (1.1.2)\n",
            "Requirement already satisfied: wheel<1.0,>=0.23.0 in /usr/local/lib/python3.8/dist-packages (from astunparse>=1.6.0->tensorflow) (0.38.4)\n",
            "Requirement already satisfied: werkzeug>=1.0.1 in /usr/local/lib/python3.8/dist-packages (from tensorboard<2.10,>=2.9->tensorflow) (1.0.1)\n",
            "Requirement already satisfied: tensorboard-data-server<0.7.0,>=0.6.0 in /usr/local/lib/python3.8/dist-packages (from tensorboard<2.10,>=2.9->tensorflow) (0.6.1)\n",
            "Requirement already satisfied: google-auth<3,>=1.6.3 in /usr/local/lib/python3.8/dist-packages (from tensorboard<2.10,>=2.9->tensorflow) (2.16.0)\n",
            "Requirement already satisfied: google-auth-oauthlib<0.5,>=0.4.1 in /usr/local/lib/python3.8/dist-packages (from tensorboard<2.10,>=2.9->tensorflow) (0.4.6)\n",
            "Requirement already satisfied: requests<3,>=2.21.0 in /usr/local/lib/python3.8/dist-packages (from tensorboard<2.10,>=2.9->tensorflow) (2.25.1)\n",
            "Requirement already satisfied: markdown>=2.6.8 in /usr/local/lib/python3.8/dist-packages (from tensorboard<2.10,>=2.9->tensorflow) (3.4.1)\n",
            "Requirement already satisfied: tensorboard-plugin-wit>=1.6.0 in /usr/local/lib/python3.8/dist-packages (from tensorboard<2.10,>=2.9->tensorflow) (1.8.1)\n",
            "Requirement already satisfied: pyparsing!=3.0.5,>=2.0.2 in /usr/local/lib/python3.8/dist-packages (from packaging->tensorflow) (3.0.9)\n",
            "Requirement already satisfied: cachetools<6.0,>=2.0.0 in /usr/local/lib/python3.8/dist-packages (from google-auth<3,>=1.6.3->tensorboard<2.10,>=2.9->tensorflow) (5.2.1)\n",
            "Requirement already satisfied: rsa<5,>=3.1.4 in /usr/local/lib/python3.8/dist-packages (from google-auth<3,>=1.6.3->tensorboard<2.10,>=2.9->tensorflow) (4.9)\n",
            "Requirement already satisfied: pyasn1-modules>=0.2.1 in /usr/local/lib/python3.8/dist-packages (from google-auth<3,>=1.6.3->tensorboard<2.10,>=2.9->tensorflow) (0.2.8)\n",
            "Requirement already satisfied: requests-oauthlib>=0.7.0 in /usr/local/lib/python3.8/dist-packages (from google-auth-oauthlib<0.5,>=0.4.1->tensorboard<2.10,>=2.9->tensorflow) (1.3.1)\n",
            "Requirement already satisfied: importlib-metadata>=4.4 in /usr/local/lib/python3.8/dist-packages (from markdown>=2.6.8->tensorboard<2.10,>=2.9->tensorflow) (6.0.0)\n",
            "Requirement already satisfied: chardet<5,>=3.0.2 in /usr/local/lib/python3.8/dist-packages (from requests<3,>=2.21.0->tensorboard<2.10,>=2.9->tensorflow) (4.0.0)\n",
            "Requirement already satisfied: idna<3,>=2.5 in /usr/local/lib/python3.8/dist-packages (from requests<3,>=2.21.0->tensorboard<2.10,>=2.9->tensorflow) (2.10)\n",
            "Requirement already satisfied: certifi>=2017.4.17 in /usr/local/lib/python3.8/dist-packages (from requests<3,>=2.21.0->tensorboard<2.10,>=2.9->tensorflow) (2022.12.7)\n",
            "Requirement already satisfied: urllib3<1.27,>=1.21.1 in /usr/local/lib/python3.8/dist-packages (from requests<3,>=2.21.0->tensorboard<2.10,>=2.9->tensorflow) (1.24.3)\n",
            "Requirement already satisfied: zipp>=0.5 in /usr/local/lib/python3.8/dist-packages (from importlib-metadata>=4.4->markdown>=2.6.8->tensorboard<2.10,>=2.9->tensorflow) (3.11.0)\n",
            "Requirement already satisfied: pyasn1<0.5.0,>=0.4.6 in /usr/local/lib/python3.8/dist-packages (from pyasn1-modules>=0.2.1->google-auth<3,>=1.6.3->tensorboard<2.10,>=2.9->tensorflow) (0.4.8)\n",
            "Requirement already satisfied: oauthlib>=3.0.0 in /usr/local/lib/python3.8/dist-packages (from requests-oauthlib>=0.7.0->google-auth-oauthlib<0.5,>=0.4.1->tensorboard<2.10,>=2.9->tensorflow) (3.2.2)\n"
          ]
        }
      ],
      "source": [
        "!pip install tensorflow"
      ]
    },
    {
      "cell_type": "code",
      "source": [
        "import tensorflow as tf\n",
        "print(\"TensorFlow version: {}\".format(tf.__version__))\n",
        "print(\"Keras version: {}\".format(tf.keras.__version__))"
      ],
      "metadata": {
        "colab": {
          "base_uri": "https://localhost:8080/"
        },
        "id": "Vf37Wre9T2s8",
        "outputId": "fe727917-611b-46fe-e70f-0bbf1055900d"
      },
      "execution_count": 2,
      "outputs": [
        {
          "output_type": "stream",
          "name": "stdout",
          "text": [
            "TensorFlow version: 2.9.2\n",
            "Keras version: 2.9.0\n"
          ]
        }
      ]
    },
    {
      "cell_type": "markdown",
      "source": [
        "### GPU/CPU Check"
      ],
      "metadata": {
        "id": "SZArb3fNVDeS"
      }
    },
    {
      "cell_type": "code",
      "source": [
        "variable = tf.Variable([3, 3])\n",
        "if tf.test.is_gpu_available():\n",
        "    print('GPU')\n",
        "    print('GPU #0?')\n",
        "    #print(var.device.endswith('GPU:0'))\n",
        "else:\n",
        "    print('CPU')"
      ],
      "metadata": {
        "colab": {
          "base_uri": "https://localhost:8080/"
        },
        "id": "oaznG7yoT2wT",
        "outputId": "c07d9f5e-935c-4b43-a8c5-56391014adc9"
      },
      "execution_count": 3,
      "outputs": [
        {
          "output_type": "stream",
          "name": "stderr",
          "text": [
            "WARNING:tensorflow:From <ipython-input-3-dadf661ae98b>:2: is_gpu_available (from tensorflow.python.framework.test_util) is deprecated and will be removed in a future version.\n",
            "Instructions for updating:\n",
            "Use `tf.config.list_physical_devices('GPU')` instead.\n"
          ]
        },
        {
          "output_type": "stream",
          "name": "stdout",
          "text": [
            "GPU\n",
            "GPU #0?\n"
          ]
        }
      ]
    },
    {
      "cell_type": "markdown",
      "source": [
        "### Tensor Constant"
      ],
      "metadata": {
        "id": "XyeQDU18WASk"
      }
    },
    {
      "cell_type": "code",
      "source": [
        "smart_science_technology = tf.constant(42)\n",
        "smart_science_technology"
      ],
      "metadata": {
        "colab": {
          "base_uri": "https://localhost:8080/"
        },
        "id": "jibf_9dNT2_X",
        "outputId": "fc5b0bf3-4e79-4d7b-c578-6d7e207c9bdf"
      },
      "execution_count": 4,
      "outputs": [
        {
          "output_type": "execute_result",
          "data": {
            "text/plain": [
              "<tf.Tensor: shape=(), dtype=int32, numpy=42>"
            ]
          },
          "metadata": {},
          "execution_count": 4
        }
      ]
    },
    {
      "cell_type": "code",
      "source": [
        "smart_science_technology.numpy()"
      ],
      "metadata": {
        "colab": {
          "base_uri": "https://localhost:8080/"
        },
        "id": "hod5_tgkT3CB",
        "outputId": "974dc22d-4300-4cb2-9626-5515f6563f20"
      },
      "execution_count": 5,
      "outputs": [
        {
          "output_type": "execute_result",
          "data": {
            "text/plain": [
              "42"
            ]
          },
          "metadata": {},
          "execution_count": 5
        }
      ]
    },
    {
      "cell_type": "code",
      "source": [
        "smart_science_technology= tf.constant(1, dtype = tf.int64)\n",
        "\n",
        "smart_science_technology"
      ],
      "metadata": {
        "colab": {
          "base_uri": "https://localhost:8080/"
        },
        "id": "g5QPEFqWWW2a",
        "outputId": "48ec4756-8a10-48bf-a700-097990836824"
      },
      "execution_count": 6,
      "outputs": [
        {
          "output_type": "execute_result",
          "data": {
            "text/plain": [
              "<tf.Tensor: shape=(), dtype=int64, numpy=1>"
            ]
          },
          "metadata": {},
          "execution_count": 6
        }
      ]
    },
    {
      "cell_type": "code",
      "source": [
        "smart_science_technology_x= tf.constant([[4,2],[9,5]])\n",
        "print(smart_science_technology_x)"
      ],
      "metadata": {
        "colab": {
          "base_uri": "https://localhost:8080/"
        },
        "id": "FUNf_-LlWWwa",
        "outputId": "4da76ed1-8822-4b58-aed6-7e7e4eb158f3"
      },
      "execution_count": 7,
      "outputs": [
        {
          "output_type": "stream",
          "name": "stdout",
          "text": [
            "tf.Tensor(\n",
            "[[4 2]\n",
            " [9 5]], shape=(2, 2), dtype=int32)\n"
          ]
        }
      ]
    },
    {
      "cell_type": "code",
      "source": [
        "\n",
        "smart_science_technology_x.numpy()"
      ],
      "metadata": {
        "id": "VkALKDilWWrl",
        "colab": {
          "base_uri": "https://localhost:8080/"
        },
        "outputId": "f870d75d-d90e-4ee8-8406-9e9adb525ae0"
      },
      "execution_count": 8,
      "outputs": [
        {
          "output_type": "execute_result",
          "data": {
            "text/plain": [
              "array([[4, 2],\n",
              "       [9, 5]], dtype=int32)"
            ]
          },
          "metadata": {},
          "execution_count": 8
        }
      ]
    },
    {
      "cell_type": "code",
      "source": [
        "print('shape:',smart_science_technology_x.shape)\n",
        "print(smart_science_technology_x.dtype)"
      ],
      "metadata": {
        "id": "V0AWbImBWWo1",
        "colab": {
          "base_uri": "https://localhost:8080/"
        },
        "outputId": "03fcb0fe-4f18-43c3-9093-2ead637c989a"
      },
      "execution_count": 10,
      "outputs": [
        {
          "output_type": "stream",
          "name": "stdout",
          "text": [
            "shape: (2, 2)\n",
            "<dtype: 'int32'>\n"
          ]
        }
      ]
    },
    {
      "cell_type": "markdown",
      "source": [
        "#### Commonly used method is to generate constant tf.ones and the tf.zeros like of numpy np.ones & np.zeros"
      ],
      "metadata": {
        "id": "NPCoY_MBYqbq"
      }
    },
    {
      "cell_type": "code",
      "source": [
        "#print(tf.ones(shape=(2,3)))\n",
        "#print(tf.zeros(shape=(3,2)))\n",
        "import tensorflow as tf\n",
        "const2 = tf.constant([[3,4,5], [3,4,5]]);tf\n",
        "const1 = tf.constant([[1,2,3], [1,2,3]]);\n",
        "result = tf.add(const1, const2);\n",
        "print(result)"
      ],
      "metadata": {
        "id": "HJJ72aM1WWmH",
        "colab": {
          "base_uri": "https://localhost:8080/"
        },
        "outputId": "c60d031e-b86a-40d1-8723-bed950b0d8b0"
      },
      "execution_count": 11,
      "outputs": [
        {
          "output_type": "stream",
          "name": "stdout",
          "text": [
            "tf.Tensor(\n",
            "[[4 6 8]\n",
            " [4 6 8]], shape=(2, 3), dtype=int32)\n"
          ]
        }
      ]
    },
    {
      "cell_type": "markdown",
      "source": [
        ">We have defined two constants and we add one value to the other. \n",
        ">As a result, we got a Tensor object with the result of the adding. "
      ],
      "metadata": {
        "id": "YzdXpzhUZQqm"
      }
    },
    {
      "cell_type": "markdown",
      "source": [
        "#### Random constant"
      ],
      "metadata": {
        "id": "GDixOLO1ZU-E"
      }
    },
    {
      "cell_type": "code",
      "source": [
        "tf.random.normal(shape=(2,2),mean=0,stddev=1.0)"
      ],
      "metadata": {
        "id": "wr08JBNqWWjd",
        "colab": {
          "base_uri": "https://localhost:8080/"
        },
        "outputId": "b1ac1792-89bf-4b4e-f25c-5566e0caa1b5"
      },
      "execution_count": 12,
      "outputs": [
        {
          "output_type": "execute_result",
          "data": {
            "text/plain": [
              "<tf.Tensor: shape=(2, 2), dtype=float32, numpy=\n",
              "array([[-0.6889127 , -0.16874842],\n",
              "       [ 0.9189842 , -2.259185  ]], dtype=float32)>"
            ]
          },
          "metadata": {},
          "execution_count": 12
        }
      ]
    },
    {
      "cell_type": "code",
      "source": [
        "tf.random.uniform(shape=(2,2),minval=0,maxval=10,dtype=tf.int32)"
      ],
      "metadata": {
        "id": "oRCF--UAWVxQ",
        "colab": {
          "base_uri": "https://localhost:8080/"
        },
        "outputId": "e5ab55b5-2ecf-48fa-b7bd-892ac9a0278f"
      },
      "execution_count": 13,
      "outputs": [
        {
          "output_type": "execute_result",
          "data": {
            "text/plain": [
              "<tf.Tensor: shape=(2, 2), dtype=int32, numpy=\n",
              "array([[7, 0],\n",
              "       [0, 3]], dtype=int32)>"
            ]
          },
          "metadata": {},
          "execution_count": 13
        }
      ]
    },
    {
      "cell_type": "markdown",
      "source": [
        "### Variables\n",
        "\n",
        ">A variable is a special tensor that is used to store variable values ​​and needs to be initialized with some values"
      ],
      "metadata": {
        "id": "6VRA5RJVZzkq"
      }
    },
    {
      "cell_type": "code",
      "source": [
        "var0 = 24 # python variable\n",
        "var1 = tf.Variable(42) # rank 0 tensor\n",
        "var2 = tf.Variable([ [ [0., 1., 2.], [3., 4., 5.] ], [ [6., 7., 8.], [9., 10., 11.] ] ]) #rank 3 tensor\n",
        "var0, var1, var2"
      ],
      "metadata": {
        "colab": {
          "base_uri": "https://localhost:8080/"
        },
        "id": "m-m6jYO7Za6U",
        "outputId": "a6828c00-4179-4e5e-87fa-72d49acec6d4"
      },
      "execution_count": 14,
      "outputs": [
        {
          "output_type": "execute_result",
          "data": {
            "text/plain": [
              "(24,\n",
              " <tf.Variable 'Variable:0' shape=() dtype=int32, numpy=42>,\n",
              " <tf.Variable 'Variable:0' shape=(2, 2, 3) dtype=float32, numpy=\n",
              " array([[[ 0.,  1.,  2.],\n",
              "         [ 3.,  4.,  5.]],\n",
              " \n",
              "        [[ 6.,  7.,  8.],\n",
              "         [ 9., 10., 11.]]], dtype=float32)>)"
            ]
          },
          "metadata": {},
          "execution_count": 14
        }
      ]
    },
    {
      "cell_type": "markdown",
      "source": [
        ">TensorFlow will infer the datatype, defaulting to tf.float32 for floats and tf.int32 for integers"
      ],
      "metadata": {
        "id": "QNOjPKs3aHQJ"
      }
    },
    {
      "cell_type": "markdown",
      "source": [
        "#### The datatype can be explicitly specified"
      ],
      "metadata": {
        "id": "a04I3cAvaNot"
      }
    },
    {
      "cell_type": "code",
      "source": [
        "float_var64 = tf.Variable(89, dtype = tf.float64)\n",
        "float_var64.dtype"
      ],
      "metadata": {
        "colab": {
          "base_uri": "https://localhost:8080/"
        },
        "id": "IXSoXJTQZeSr",
        "outputId": "1dd98ef9-6d74-4ed9-b879-4f950658e0a2"
      },
      "execution_count": 15,
      "outputs": [
        {
          "output_type": "execute_result",
          "data": {
            "text/plain": [
              "tf.float64"
            ]
          },
          "metadata": {},
          "execution_count": 15
        }
      ]
    },
    {
      "cell_type": "markdown",
      "source": [
        "$\\color{blue}{\\text{\n",
        "`TensorFlow has a large number of built-in datatypes.`}}$\n",
        "* tf.float16: 16-bit half-precision floating-point.\n",
        "* tf.float32: 32-bit single-precision floating-point.\n",
        "* tf.float64: 64-bit double-precision floating-point.\n",
        "* tf.bfloat16: 16-bit truncated floating-point.\n",
        "* tf.complex64: 64-bit single-precision complex.\n",
        "* tf.complex128: 128-bit double-precision complex.\n",
        "* tf.int8: 8-bit signed integer.\n",
        "* tf.uint8: 8-bit unsigned integer.\n",
        "* tf.uint16: 16-bit unsigned integer.\n",
        "* tf.uint32: 32-bit unsigned integer.\n",
        "* tf.uint64: 64-bit unsigned integer.\n",
        "* tf.int16: 16-bit signed integer.\n",
        "* tf.int32: 32-bit signed integer.\n",
        "* tf.int64: 64-bit signed integer.\n",
        "* tf.bool: Boolean.\n",
        "* tf.string: String.\n",
        "* tf.qint8: Quantized 8-bit signed integer.\n",
        "* tf.quint8: Quantized 8-bit unsigned integer.\n",
        "* tf.qint16: Quantized 16-bit signed integer.\n",
        "* tf.quint16: Quantized 16-bit unsigned integer.\n",
        "* tf.qint32: Quantized 32-bit signed integer.\n",
        "* tf.resource: Handle to a mutable resource.\n",
        "* tf.variant: Values of arbitrary types.\n"
      ],
      "metadata": {
        "id": "THh1VxIQabgc"
      }
    },
    {
      "cell_type": "code",
      "source": [
        "# To reassign a variable, use var.assign()\n",
        "\n",
        "\n",
        "var_reassign = tf.Variable(89.)\n",
        "var_reassign"
      ],
      "metadata": {
        "colab": {
          "base_uri": "https://localhost:8080/"
        },
        "id": "8Ts0WDPpZePJ",
        "outputId": "92acb211-5af4-446c-9d46-3cc6d53878a1"
      },
      "execution_count": 16,
      "outputs": [
        {
          "output_type": "execute_result",
          "data": {
            "text/plain": [
              "<tf.Variable 'Variable:0' shape=() dtype=float32, numpy=89.0>"
            ]
          },
          "metadata": {},
          "execution_count": 16
        }
      ]
    },
    {
      "cell_type": "code",
      "source": [
        "var_reassign.assign(98.)\n",
        "var_reassign"
      ],
      "metadata": {
        "colab": {
          "base_uri": "https://localhost:8080/"
        },
        "id": "BjcQQdX6ZeMT",
        "outputId": "28fe2185-7a28-4b75-9417-84e994a1ffe3"
      },
      "execution_count": 17,
      "outputs": [
        {
          "output_type": "execute_result",
          "data": {
            "text/plain": [
              "<tf.Variable 'Variable:0' shape=() dtype=float32, numpy=98.0>"
            ]
          },
          "metadata": {},
          "execution_count": 17
        }
      ]
    },
    {
      "cell_type": "code",
      "source": [
        "initial_value = tf.random.normal(shape=(2,2))\n",
        "a = tf.Variable(initial_value)\n",
        "print(a)"
      ],
      "metadata": {
        "colab": {
          "base_uri": "https://localhost:8080/"
        },
        "id": "79542zluZeI9",
        "outputId": "6941a434-7f81-41fb-95ba-32ab04c0152b"
      },
      "execution_count": 18,
      "outputs": [
        {
          "output_type": "stream",
          "name": "stdout",
          "text": [
            "<tf.Variable 'Variable:0' shape=(2, 2) dtype=float32, numpy=\n",
            "array([[-1.3112588 ,  0.68996704],\n",
            "       [ 0.4900487 , -0.98124486]], dtype=float32)>\n"
          ]
        }
      ]
    },
    {
      "cell_type": "markdown",
      "source": [
        ">We can assign \"=\" with assign (value), or assign_add (value) with \"+ =\", or assign_sub (value) with \"-=\""
      ],
      "metadata": {
        "id": "Zjl-UbItbf1i"
      }
    },
    {
      "cell_type": "code",
      "source": [
        "new_value = tf.random.normal(shape=(2, 2))\n",
        "a.assign(new_value)\n",
        "for i in range(2):\n",
        "    for j in range(2):\n",
        "        assert a[i, j] == new_value[i, j]"
      ],
      "metadata": {
        "id": "kvNSTtB7ZeFq"
      },
      "execution_count": 19,
      "outputs": []
    },
    {
      "cell_type": "code",
      "source": [
        "added_value = tf.random.normal(shape=(2,2))\n",
        "a.assign_add(added_value)\n",
        "for i in range(2):\n",
        "    for j in range(2):\n",
        "        assert a[i,j] == new_value[i,j]+added_value[i,j]"
      ],
      "metadata": {
        "id": "HdZ7N9T_ZeBi"
      },
      "execution_count": 20,
      "outputs": []
    },
    {
      "cell_type": "code",
      "source": [
        "# Shaping a tensor\n",
        "tensor = tf.Variable([ [ [10., 11., 12.], [13., 14., 15.] ], [ [16., 17., 18.], [19., 20., 21.] ] ]) # tensor variable\n",
        "print(tensor.shape)\n",
        "tensor"
      ],
      "metadata": {
        "colab": {
          "base_uri": "https://localhost:8080/"
        },
        "id": "24Q-UtUmZd75",
        "outputId": "e2db0ec3-4fd3-4b59-a3c3-6bd9d3a0fca5"
      },
      "execution_count": 22,
      "outputs": [
        {
          "output_type": "stream",
          "name": "stdout",
          "text": [
            "(2, 2, 3)\n"
          ]
        },
        {
          "output_type": "execute_result",
          "data": {
            "text/plain": [
              "<tf.Variable 'Variable:0' shape=(2, 2, 3) dtype=float32, numpy=\n",
              "array([[[10., 11., 12.],\n",
              "        [13., 14., 15.]],\n",
              "\n",
              "       [[16., 17., 18.],\n",
              "        [19., 20., 21.]]], dtype=float32)>"
            ]
          },
          "metadata": {},
          "execution_count": 22
        }
      ]
    },
    {
      "cell_type": "markdown",
      "source": [
        "#### Tensors can be reshaped and retain the same values which is required for constructing Neural networks."
      ],
      "metadata": {
        "id": "uihcpnLjcf9k"
      }
    },
    {
      "cell_type": "code",
      "source": [
        "tensor1 = tf.reshape(tensor,[2,6]) # 2 rows 6 cols\n",
        "#tensor2 = tf.reshape(tensor,[1,12]) # 1 rows 12 cols\n",
        "tensor1"
      ],
      "metadata": {
        "colab": {
          "base_uri": "https://localhost:8080/"
        },
        "id": "jV5hgbFyZd4Q",
        "outputId": "84663364-5c24-48e4-a58b-42c3a5ac8c6a"
      },
      "execution_count": 23,
      "outputs": [
        {
          "output_type": "execute_result",
          "data": {
            "text/plain": [
              "<tf.Tensor: shape=(2, 6), dtype=float32, numpy=\n",
              "array([[10., 11., 12., 13., 14., 15.],\n",
              "       [16., 17., 18., 19., 20., 21.]], dtype=float32)>"
            ]
          },
          "metadata": {},
          "execution_count": 23
        }
      ]
    },
    {
      "cell_type": "code",
      "source": [
        "tensor2 = tf.reshape(tensor,[1,12]) # 1 row 12 columns\n",
        "tensor2"
      ],
      "metadata": {
        "colab": {
          "base_uri": "https://localhost:8080/"
        },
        "id": "M5ONhqn0Zdzs",
        "outputId": "4a629a9c-beb3-4322-fb36-422d09fde95c"
      },
      "execution_count": 24,
      "outputs": [
        {
          "output_type": "execute_result",
          "data": {
            "text/plain": [
              "<tf.Tensor: shape=(1, 12), dtype=float32, numpy=\n",
              "array([[10., 11., 12., 13., 14., 15., 16., 17., 18., 19., 20., 21.]],\n",
              "      dtype=float32)>"
            ]
          },
          "metadata": {},
          "execution_count": 24
        }
      ]
    },
    {
      "cell_type": "markdown",
      "source": [
        "### Rank of a tensor"
      ],
      "metadata": {
        "id": "0X2W2tX_c2uO"
      }
    },
    {
      "cell_type": "markdown",
      "source": [
        ">The rank of a tensor is defined as the number of dimensions, which is the number of indices that are required to specify any particular element of that tensor."
      ],
      "metadata": {
        "id": "AX2Wwjg4c7PO"
      }
    },
    {
      "cell_type": "code",
      "source": [
        "tf.rank(tensor)"
      ],
      "metadata": {
        "colab": {
          "base_uri": "https://localhost:8080/"
        },
        "id": "eGO3HL7-Zdvg",
        "outputId": "f184f8b7-8ff4-404c-8719-1569de552b15"
      },
      "execution_count": 25,
      "outputs": [
        {
          "output_type": "execute_result",
          "data": {
            "text/plain": [
              "<tf.Tensor: shape=(), dtype=int32, numpy=3>"
            ]
          },
          "metadata": {},
          "execution_count": 25
        }
      ]
    },
    {
      "cell_type": "markdown",
      "source": [
        ">(the shape is () because the output here is a scalar value)"
      ],
      "metadata": {
        "id": "REdLtlBMdIrs"
      }
    },
    {
      "cell_type": "code",
      "source": [
        "# Specifying an element of a tensor\n",
        "\n",
        "\n",
        "tensor3 = tensor[1, 0, 2] # slice 1, row 0, column 2\n",
        "tensor3"
      ],
      "metadata": {
        "colab": {
          "base_uri": "https://localhost:8080/"
        },
        "id": "pf2ypULMZdsr",
        "outputId": "5b00b62c-720a-43f8-9a1e-2c2778ff556a"
      },
      "execution_count": 26,
      "outputs": [
        {
          "output_type": "execute_result",
          "data": {
            "text/plain": [
              "<tf.Tensor: shape=(), dtype=float32, numpy=18.0>"
            ]
          },
          "metadata": {},
          "execution_count": 26
        }
      ]
    },
    {
      "cell_type": "code",
      "source": [
        "# Casting a tensor to a NumPy variable\n",
        "\n",
        "print(tensor.numpy())"
      ],
      "metadata": {
        "colab": {
          "base_uri": "https://localhost:8080/"
        },
        "id": "SbMBi6BOZdpw",
        "outputId": "97ca4ea9-706c-41e1-87ba-4a895bb5a826"
      },
      "execution_count": 27,
      "outputs": [
        {
          "output_type": "stream",
          "name": "stdout",
          "text": [
            "[[[10. 11. 12.]\n",
            "  [13. 14. 15.]]\n",
            "\n",
            " [[16. 17. 18.]\n",
            "  [19. 20. 21.]]]\n"
          ]
        }
      ]
    },
    {
      "cell_type": "code",
      "source": [
        "print(tensor[1, 0, 2].numpy())"
      ],
      "metadata": {
        "colab": {
          "base_uri": "https://localhost:8080/"
        },
        "id": "sDy5VYSwZdmu",
        "outputId": "7f55e55d-f212-49e4-d5ca-413b89aef24e"
      },
      "execution_count": 28,
      "outputs": [
        {
          "output_type": "stream",
          "name": "stdout",
          "text": [
            "18.0\n"
          ]
        }
      ]
    },
    {
      "cell_type": "code",
      "source": [
        "# Finding the size or length of a tensor\n",
        "\n",
        "tensor_size = tf.size(input=tensor).numpy()\n",
        "tensor_size"
      ],
      "metadata": {
        "colab": {
          "base_uri": "https://localhost:8080/"
        },
        "id": "hFpgRSeFZdhd",
        "outputId": "ee5c66c0-bde0-45c5-d0c3-11eb867ce085"
      },
      "execution_count": 31,
      "outputs": [
        {
          "output_type": "execute_result",
          "data": {
            "text/plain": [
              "12"
            ]
          },
          "metadata": {},
          "execution_count": 31
        }
      ]
    },
    {
      "cell_type": "code",
      "source": [
        "#the datatype of a tensor\n",
        "tensor3.dtype"
      ],
      "metadata": {
        "colab": {
          "base_uri": "https://localhost:8080/"
        },
        "id": "w8CAukIgZdeb",
        "outputId": "3c0401c4-e432-4257-addb-404404a2f49a"
      },
      "execution_count": 32,
      "outputs": [
        {
          "output_type": "execute_result",
          "data": {
            "text/plain": [
              "tf.float32"
            ]
          },
          "metadata": {},
          "execution_count": 32
        }
      ]
    },
    {
      "cell_type": "code",
      "source": [],
      "metadata": {
        "id": "XFsEy3pOZdbE"
      },
      "execution_count": null,
      "outputs": []
    },
    {
      "cell_type": "markdown",
      "source": [
        "### Tensorflow mathematical operations\n",
        ">Can be used as numpy for artificial operations. Tensorflow can not execute these operations on the GPU or TPU.\n"
      ],
      "metadata": {
        "id": "9GQwePDhe68k"
      }
    },
    {
      "cell_type": "code",
      "source": [
        "a = tf.random.normal(shape=(2,2))\n",
        "b = tf.random.normal(shape=(2,2))\n",
        "c = a + b\n",
        "d = tf.square(c)\n",
        "e = tf.exp(c)\n",
        "print(a)\n",
        "print(b)\n",
        "print(c)\n",
        "print(d)\n",
        "print(e)"
      ],
      "metadata": {
        "colab": {
          "base_uri": "https://localhost:8080/"
        },
        "id": "smC2piwmZdXV",
        "outputId": "032181af-1cbb-4c5e-cb0c-73d1282f1df4"
      },
      "execution_count": 33,
      "outputs": [
        {
          "output_type": "stream",
          "name": "stdout",
          "text": [
            "tf.Tensor(\n",
            "[[-0.6686602   0.13079642]\n",
            " [-0.19833125 -0.1670021 ]], shape=(2, 2), dtype=float32)\n",
            "tf.Tensor(\n",
            "[[-0.49145392  0.17056257]\n",
            " [ 1.5973315   1.361983  ]], shape=(2, 2), dtype=float32)\n",
            "tf.Tensor(\n",
            "[[-1.1601142  0.301359 ]\n",
            " [ 1.3990003  1.1949809]], shape=(2, 2), dtype=float32)\n",
            "tf.Tensor(\n",
            "[[1.3458649  0.09081724]\n",
            " [1.9572018  1.4279792 ]], shape=(2, 2), dtype=float32)\n",
            "tf.Tensor(\n",
            "[[0.3134504 1.3516945]\n",
            " [4.051148  3.3034947]], shape=(2, 2), dtype=float32)\n"
          ]
        }
      ]
    },
    {
      "cell_type": "markdown",
      "source": [
        "### Performing element-wise primitive tensor operations"
      ],
      "metadata": {
        "id": "UojGU19Ufncd"
      }
    },
    {
      "cell_type": "code",
      "source": [
        "tensor*tensor"
      ],
      "metadata": {
        "colab": {
          "base_uri": "https://localhost:8080/"
        },
        "id": "p12XDD56ZcGC",
        "outputId": "cddf6356-355d-4773-f839-126509d417ef"
      },
      "execution_count": 34,
      "outputs": [
        {
          "output_type": "execute_result",
          "data": {
            "text/plain": [
              "<tf.Tensor: shape=(2, 2, 3), dtype=float32, numpy=\n",
              "array([[[100., 121., 144.],\n",
              "        [169., 196., 225.]],\n",
              "\n",
              "       [[256., 289., 324.],\n",
              "        [361., 400., 441.]]], dtype=float32)>"
            ]
          },
          "metadata": {},
          "execution_count": 34
        }
      ]
    },
    {
      "cell_type": "markdown",
      "source": [
        "### Broadcasting in Tensorflow\n",
        "\n",
        ">Element-wise tensor operations support broadcasting in the same way that NumPy arrays do.\n",
        "\n",
        ">The simplest example is multiplication of  a tensor by a scalar value."
      ],
      "metadata": {
        "id": "mdg6ZKMtfxW7"
      }
    },
    {
      "cell_type": "code",
      "source": [
        "tensor4 = tensor*4\n",
        "print(tensor4)"
      ],
      "metadata": {
        "colab": {
          "base_uri": "https://localhost:8080/"
        },
        "id": "rirRVLJPZcYB",
        "outputId": "74c3c898-5479-4d08-e6b3-0ba6805c0a00"
      },
      "execution_count": 35,
      "outputs": [
        {
          "output_type": "stream",
          "name": "stdout",
          "text": [
            "tf.Tensor(\n",
            "[[[40. 44. 48.]\n",
            "  [52. 56. 60.]]\n",
            "\n",
            " [[64. 68. 72.]\n",
            "  [76. 80. 84.]]], shape=(2, 2, 3), dtype=float32)\n"
          ]
        }
      ]
    },
    {
      "cell_type": "markdown",
      "source": [
        "### Transpose Matrix multiplication"
      ],
      "metadata": {
        "id": "fYTp5lWagFcK"
      }
    },
    {
      "cell_type": "code",
      "source": [
        "matrix_u = tf.constant([[6,7,6]])\n",
        "matrix_v = tf.constant([[3,4,3]])\n",
        "tf.matmul(matrix_u, tf.transpose(a=matrix_v))"
      ],
      "metadata": {
        "colab": {
          "base_uri": "https://localhost:8080/"
        },
        "id": "ujtwq-1hZcdg",
        "outputId": "c905f151-cde7-4bfd-8e6d-9f1b92050d1b"
      },
      "execution_count": 36,
      "outputs": [
        {
          "output_type": "execute_result",
          "data": {
            "text/plain": [
              "<tf.Tensor: shape=(1, 1), dtype=int32, numpy=array([[64]], dtype=int32)>"
            ]
          },
          "metadata": {},
          "execution_count": 36
        }
      ]
    },
    {
      "cell_type": "code",
      "source": [
        "### Casting a tensor to another datatype\n",
        "\n",
        "\n",
        "i = tf.cast(tensor1, dtype=tf.int32)\n",
        "i"
      ],
      "metadata": {
        "colab": {
          "base_uri": "https://localhost:8080/"
        },
        "id": "2wlyRdSYgNXC",
        "outputId": "c7280a09-7858-4ec3-dce2-25cc177f90a5"
      },
      "execution_count": 37,
      "outputs": [
        {
          "output_type": "execute_result",
          "data": {
            "text/plain": [
              "<tf.Tensor: shape=(2, 6), dtype=int32, numpy=\n",
              "array([[10, 11, 12, 13, 14, 15],\n",
              "       [16, 17, 18, 19, 20, 21]], dtype=int32)>"
            ]
          },
          "metadata": {},
          "execution_count": 37
        }
      ]
    },
    {
      "cell_type": "code",
      "source": [
        "##### Casting with truncation\n",
        "\n",
        "\n",
        "j = tf.cast(tf.constant(4.9), dtype=tf.int32)\n",
        "j"
      ],
      "metadata": {
        "colab": {
          "base_uri": "https://localhost:8080/"
        },
        "id": "k7wjqgzrgPDB",
        "outputId": "0afcb0a4-10c8-4018-cbb5-9df3ed35ed53"
      },
      "execution_count": 38,
      "outputs": [
        {
          "output_type": "execute_result",
          "data": {
            "text/plain": [
              "<tf.Tensor: shape=(), dtype=int32, numpy=4>"
            ]
          },
          "metadata": {},
          "execution_count": 38
        }
      ]
    },
    {
      "cell_type": "markdown",
      "source": [
        "###  Ragged tensors"
      ],
      "metadata": {
        "id": "LHWQtwElg6E0"
      }
    },
    {
      "cell_type": "markdown",
      "source": [
        "`A ragged tensor is a tensor having one or more ragged dimensions. Ragged dimensions are dimensions that have slices having various lengths.There are a variety of methods for the declaration of ragged arrays, the simplest way is declaring a constant ragged array.`"
      ],
      "metadata": {
        "id": "7JBwRCxjg7xK"
      }
    },
    {
      "cell_type": "code",
      "source": [
        "#constant ragged array\n",
        "\n",
        "ragged =tf.ragged.constant([[9, 7, 4, 3], [], [11, 12, 8], [3], [7,8]])\n",
        "print(ragged)\n",
        "print(ragged[0,:])\n",
        "print(ragged[1,:])\n",
        "print(ragged[2,:])\n",
        "print(ragged[3,:])\n",
        "print(ragged[4,:])"
      ],
      "metadata": {
        "colab": {
          "base_uri": "https://localhost:8080/"
        },
        "id": "hd-sqBcrgO_d",
        "outputId": "d77a02dd-cf08-4334-d947-4d98c33284d2"
      },
      "execution_count": 39,
      "outputs": [
        {
          "output_type": "stream",
          "name": "stdout",
          "text": [
            "<tf.RaggedTensor [[9, 7, 4, 3], [], [11, 12, 8], [3], [7, 8]]>\n",
            "tf.Tensor([9 7 4 3], shape=(4,), dtype=int32)\n",
            "tf.Tensor([], shape=(0,), dtype=int32)\n",
            "tf.Tensor([11 12  8], shape=(3,), dtype=int32)\n",
            "tf.Tensor([3], shape=(1,), dtype=int32)\n",
            "tf.Tensor([7 8], shape=(2,), dtype=int32)\n"
          ]
        }
      ]
    },
    {
      "cell_type": "markdown",
      "source": [
        "### Squared difference of tensors"
      ],
      "metadata": {
        "id": "t_3rAbUShZw1"
      }
    },
    {
      "cell_type": "code",
      "source": [
        "varx = [4,5,6,1,2]\n",
        "vary =[8] \n",
        "varz = tf.math.squared_difference(varx,vary)\n",
        "varz"
      ],
      "metadata": {
        "colab": {
          "base_uri": "https://localhost:8080/"
        },
        "id": "sZjsWs7rgO77",
        "outputId": "be62f689-bb26-401f-a199-e90fcdac7ad5"
      },
      "execution_count": 41,
      "outputs": [
        {
          "output_type": "execute_result",
          "data": {
            "text/plain": [
              "<tf.Tensor: shape=(5,), dtype=int32, numpy=array([16,  9,  4, 49, 36], dtype=int32)>"
            ]
          },
          "metadata": {},
          "execution_count": 41
        }
      ]
    },
    {
      "cell_type": "markdown",
      "source": [
        "#### Calculate the mean\n",
        ">Function available\n",
        ">tf.reduce_mean()."
      ],
      "metadata": {
        "id": "djg0vEYFiOZt"
      }
    },
    {
      "cell_type": "markdown",
      "source": [
        "`Similar to np.mean, except that it infers the return datatype from the input tensor, whereas np.mean allows you to specify the output type`\n",
        "\n",
        "`tf.reduce_mean(input_tensor, axis=None, keepdims=None, name=None)`"
      ],
      "metadata": {
        "id": "X-IkgSOiiTdD"
      }
    },
    {
      "cell_type": "code",
      "source": [
        "# Defining a constant\n",
        "numbers = tf.constant([[8., 9.], [1., 2.]])"
      ],
      "metadata": {
        "id": "JQUDR6QfgO42"
      },
      "execution_count": 42,
      "outputs": []
    },
    {
      "cell_type": "code",
      "source": [
        "#### Calculate the mean across all axes\n",
        "\n",
        "tf.reduce_mean(input_tensor=numbers) #default axis = None"
      ],
      "metadata": {
        "colab": {
          "base_uri": "https://localhost:8080/"
        },
        "id": "UpL5nZLYgO1V",
        "outputId": "7196ceb3-eaa2-4737-a41f-8adfef213c42"
      },
      "execution_count": 43,
      "outputs": [
        {
          "output_type": "execute_result",
          "data": {
            "text/plain": [
              "<tf.Tensor: shape=(), dtype=float32, numpy=5.0>"
            ]
          },
          "metadata": {},
          "execution_count": 43
        }
      ]
    },
    {
      "cell_type": "code",
      "source": [
        "#### Calculate the mean across columns (reduce rows) with this:\n",
        "\n",
        "tf.reduce_mean(input_tensor=numbers, axis=0)"
      ],
      "metadata": {
        "colab": {
          "base_uri": "https://localhost:8080/"
        },
        "id": "difUIA1GgOxi",
        "outputId": "0e605e45-8b5f-44ef-c08e-91b799301f4c"
      },
      "execution_count": 44,
      "outputs": [
        {
          "output_type": "execute_result",
          "data": {
            "text/plain": [
              "<tf.Tensor: shape=(2,), dtype=float32, numpy=array([4.5, 5.5], dtype=float32)>"
            ]
          },
          "metadata": {},
          "execution_count": 44
        }
      ]
    },
    {
      "cell_type": "markdown",
      "source": [
        "#### When keepdims = True"
      ],
      "metadata": {
        "id": "QaJFfzJEi70x"
      }
    },
    {
      "cell_type": "code",
      "source": [
        "tf.reduce_mean(input_tensor=numbers, axis=0, keepdims=True) #the reduced axis is retained with a length of 1"
      ],
      "metadata": {
        "colab": {
          "base_uri": "https://localhost:8080/"
        },
        "id": "BXOloHpWgOt0",
        "outputId": "2c8f7850-e291-4c55-ccf1-5736fe69ec1d"
      },
      "execution_count": 45,
      "outputs": [
        {
          "output_type": "execute_result",
          "data": {
            "text/plain": [
              "<tf.Tensor: shape=(1, 2), dtype=float32, numpy=array([[4.5, 5.5]], dtype=float32)>"
            ]
          },
          "metadata": {},
          "execution_count": 45
        }
      ]
    },
    {
      "cell_type": "code",
      "source": [
        "#### Calculate the mean across rows (reduce columns) with this:\n",
        "\n",
        "tf.reduce_mean(input_tensor=numbers, axis=1)"
      ],
      "metadata": {
        "colab": {
          "base_uri": "https://localhost:8080/"
        },
        "id": "mWuGgpIrgOqT",
        "outputId": "3af68885-a1ba-4fa2-9ac4-46c1974cacd3"
      },
      "execution_count": 46,
      "outputs": [
        {
          "output_type": "execute_result",
          "data": {
            "text/plain": [
              "<tf.Tensor: shape=(2,), dtype=float32, numpy=array([8.5, 1.5], dtype=float32)>"
            ]
          },
          "metadata": {},
          "execution_count": 46
        }
      ]
    },
    {
      "cell_type": "code",
      "source": [
        "tf.reduce_mean(input_tensor=numbers, axis=1, keepdims=True) #the reduced axis is retained with a length of 1"
      ],
      "metadata": {
        "colab": {
          "base_uri": "https://localhost:8080/"
        },
        "id": "UMVXzVlrgOm6",
        "outputId": "5f4643e0-cc1d-441d-e0ed-8e2d27464e60"
      },
      "execution_count": 47,
      "outputs": [
        {
          "output_type": "execute_result",
          "data": {
            "text/plain": [
              "<tf.Tensor: shape=(2, 1), dtype=float32, numpy=\n",
              "array([[8.5],\n",
              "       [1.5]], dtype=float32)>"
            ]
          },
          "metadata": {},
          "execution_count": 47
        }
      ]
    },
    {
      "cell_type": "markdown",
      "source": [
        "####  Random values generation"
      ],
      "metadata": {
        "id": "7BvPvpQwjuZ1"
      }
    },
    {
      "cell_type": "code",
      "source": [],
      "metadata": {
        "id": "80m5z0x0gOjV"
      },
      "execution_count": null,
      "outputs": []
    },
    {
      "cell_type": "code",
      "source": [],
      "metadata": {
        "id": "XgZpcquXgOfe"
      },
      "execution_count": null,
      "outputs": []
    },
    {
      "cell_type": "code",
      "source": [],
      "metadata": {
        "id": "U8GPHpR3gOb9"
      },
      "execution_count": null,
      "outputs": []
    },
    {
      "cell_type": "code",
      "source": [],
      "metadata": {
        "id": "WW6iS00agOXW"
      },
      "execution_count": null,
      "outputs": []
    },
    {
      "cell_type": "code",
      "source": [],
      "metadata": {
        "id": "PvChnmn4gOSe"
      },
      "execution_count": null,
      "outputs": []
    },
    {
      "cell_type": "code",
      "source": [],
      "metadata": {
        "id": "isonmaZLgOPE"
      },
      "execution_count": null,
      "outputs": []
    },
    {
      "cell_type": "code",
      "source": [],
      "metadata": {
        "id": "5YLJIvffgOMB"
      },
      "execution_count": null,
      "outputs": []
    },
    {
      "cell_type": "code",
      "source": [],
      "metadata": {
        "id": "ObcAld05gNrA"
      },
      "execution_count": null,
      "outputs": []
    }
  ]
}