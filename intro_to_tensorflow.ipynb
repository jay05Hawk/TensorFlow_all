{
  "nbformat": 4,
  "nbformat_minor": 0,
  "metadata": {
    "colab": {
      "provenance": [],
      "authorship_tag": "ABX9TyMcCun8HjauBx+dvAfkS2OG",
      "include_colab_link": true
    },
    "kernelspec": {
      "name": "python3",
      "display_name": "Python 3"
    },
    "language_info": {
      "name": "python"
    }
  },
  "cells": [
    {
      "cell_type": "markdown",
      "metadata": {
        "id": "view-in-github",
        "colab_type": "text"
      },
      "source": [
        "<a href=\"https://colab.research.google.com/github/jay05Hawk/TensorFlow_all/blob/main/intro_to_tensorflow.ipynb\" target=\"_parent\"><img src=\"https://colab.research.google.com/assets/colab-badge.svg\" alt=\"Open In Colab\"/></a>"
      ]
    },
    {
      "cell_type": "markdown",
      "source": [
        "# What is TensorFlow?\n",
        "\n",
        "![](https://upload.wikimedia.org/wikipedia/commons/a/a4/TensorFlowLogo.png)\n",
        "\n",
        "\n",
        "TensorFlow is an open source software library released in 2015 by Google to make it easier for developers to design, build, and train deep learning models. TensorFlow originated as an internal library that Google developers used to build models in-house, and we expect additional functionality to be added to the open source version as they are tested and vetted in the internal flavor. Although TensorFlow is only one of several options available to developers, we choose to use it here because of its thoughtful design and ease of use. We’ll briefly compare TensorFlow to alternatives in the next section.\n",
        "\n",
        "At a high level, TensorFlow is a Python library that allows users to express arbitrary computation as a graph of data flows. Nodes in this graph represent mathematical operations, whereas edges represent data that is communicated from one node to another. Data in TensorFlow are represented as tensors, which are multidimensional arrays. Although this framework for thinking about computation is valuable in many different fields, TensorFlow is primarily used for deep learning in practice and research.\n",
        "\n"
      ],
      "metadata": {
        "id": "8lNALLtns1rl"
      }
    },
    {
      "cell_type": "code",
      "execution_count": 1,
      "metadata": {
        "colab": {
          "base_uri": "https://localhost:8080/"
        },
        "id": "4SdxwZcUszKn",
        "outputId": "b4498afe-ef35-4b88-ee50-3335d50862dd"
      },
      "outputs": [
        {
          "output_type": "execute_result",
          "data": {
            "text/plain": [
              "<tf.Tensor: shape=(), dtype=string, numpy=b'Hello World!'>"
            ]
          },
          "metadata": {},
          "execution_count": 1
        }
      ],
      "source": [
        "import tensorflow as tf\n",
        "hello_constant = tf.constant('Hello World!')\n",
        "hello_constant"
      ]
    },
    {
      "cell_type": "code",
      "source": [
        "import tensorflow as tf\n",
        "\n",
        "# Create TensorFlow object called tensor\n",
        "hello_constant = tf.constant('Hello World!')\n",
        "\n",
        "with tf.compat.v1.Session() as sess:\n",
        "        # Run the tf.constant operation in the session\n",
        "       output = sess.run(hello_constant)\n",
        "       print(output)"
      ],
      "metadata": {
        "id": "h0k4o4rQtQ3Y"
      },
      "execution_count": 8,
      "outputs": []
    },
    {
      "cell_type": "markdown",
      "source": [
        "### Tensor\n",
        "In TensorFlow, data isn’t stored as integers, floats, or strings. These values are encapsulated in an object called a tensor. In the case of hello_constant = tf.constant('Hello World!'), hello_constant is a 0-dimensional string tensor, but tensors come in a variety of sizes as shown below:"
      ],
      "metadata": {
        "id": "r1F3Qn3StcCz"
      }
    },
    {
      "cell_type": "code",
      "source": [
        "# A is a 0-dimensional int32 tensor\n",
        "A = tf.constant(1234)\n",
        "\n",
        "# B is a 1-dimensional int32 tensor\n",
        "B = tf.constant([123,456,789])\n",
        "\n",
        "# C is a 2-dimensional int32 tensor\n",
        "C = tf.constant([ [123,456,789], [222,333,444] ])"
      ],
      "metadata": {
        "id": "0KrwD1uQtQ0F"
      },
      "execution_count": 6,
      "outputs": []
    },
    {
      "cell_type": "markdown",
      "source": [
        "tf.constant() is one of many TensorFlow operations you will use in this lesson. The tensor returned by tf.constant() is called a constant tensor, because the value of the tensor never changes.\n",
        "\n",
        "### Session\n",
        "\n",
        "TensorFlow’s api is built around the idea of a computational graph, a way of visualizing a mathematical process.  Let’s take the TensorFlow code and turn that into a graph:\n",
        "\n",
        "![Session](https://d17h27t6h515a5.cloudfront.net/topher/2016/October/580feadb_session/session.png)\n",
        "\n",
        "A \"TensorFlow Session\", as shown above, is an environment for running a graph. The session is in charge of allocating the operations to GPU(s) and/or CPU(s), including remote machines. Let’s see how you use it:"
      ],
      "metadata": {
        "id": "7oOtp7AHwU8s"
      }
    },
    {
      "cell_type": "code",
      "source": [
        "with tf.Session() as sess:\n",
        "    output = sess.run(hello_constant)"
      ],
      "metadata": {
        "id": "W6oOIUBQtQw4"
      },
      "execution_count": 3,
      "outputs": []
    },
    {
      "cell_type": "markdown",
      "source": [
        "The code has already created the tensor, `hello_constant`, from the previous lines. The next step is to evaluate the tensor in a session.\n",
        "\n",
        "The code creates a session instance, `sess`, using `tf.Session`. The `sess.run()` function then evaluates the tensor and returns the results.\n",
        "\n",
        "## TensorFlow Input \n",
        "\n",
        "In the last section, a tensor was passed into a session and it returned the result. What if we want to use a non-constant? This is where `tf.placeholder()` and `feed_dict` come into place. In this section, we'll go over the basics of feeding data into TensorFlow.\n",
        "\n",
        "### tf.placeholder()\n",
        "\n",
        "Sadly you can’t just set `x` to your dataset and put it in TensorFlow, because over time you'll want your TensorFlow model to take in different datasets with different parameters. You need `tf.placeholder()`!\n",
        "\n",
        "`tf.placeholder()` returns a tensor that gets its value from data passed to the `tf.session.run()` function, allowing you to set the input right before the session runs.\n",
        "\n",
        "### Session's feed_dict"
      ],
      "metadata": {
        "id": "byFM99nbwc5l"
      }
    },
    {
      "cell_type": "code",
      "source": [
        "x = tf.placeholder(tf.string)\n",
        "\n",
        "with tf.Session() as sess:\n",
        "    output = sess.run(x, feed_dict={x: 'sudh'})\n",
        "    print(output)"
      ],
      "metadata": {
        "id": "swh5uniZtQts"
      },
      "execution_count": 3,
      "outputs": []
    },
    {
      "cell_type": "markdown",
      "source": [
        "Use the feed_dict parameter in `tf.session.run()` to set the placeholder tensor. The above example shows the tensor `x` being set to the string `\"Hello, world\"`. It's also possible to set more than one tensor using `feed_dict` as shown below:"
      ],
      "metadata": {
        "id": "N2vtOKaBwk8U"
      }
    },
    {
      "cell_type": "code",
      "source": [
        "x = tf.placeholder(tf.string)\n",
        "y = tf.placeholder(tf.int32)\n",
        "z = tf.placeholder(tf.float32)\n",
        "\n",
        "with tf.Session() as sess:\n",
        "    output_x = sess.run(x,feed_dict={x: 'Test String', y: 123, z: 45.67})\n",
        "    output_y = sess.run(y, feed_dict={x: 'Test String', y: 123, z:45.67})\n",
        "    print(output_x)\n",
        "    print(output_y)"
      ],
      "metadata": {
        "id": "eOxihscMtQqs"
      },
      "execution_count": 3,
      "outputs": []
    },
    {
      "cell_type": "markdown",
      "source": [
        "**Note**: If the data passed to the `feed_dict` doesn’t match the tensor type and can’t be cast into the tensor type, you’ll get the error `“ValueError: invalid literal for...”`."
      ],
      "metadata": {
        "id": "W0AceizBwuDO"
      }
    },
    {
      "cell_type": "markdown",
      "source": [
        "\n",
        "## TensorFlow Math\n",
        "\n",
        "Getting the input is great, but now you need to use it. We're going to use basic math functions that everyone knows and loves - add, subtract, multiply, and divide - with tensors. (There's many more math functions you can check out in the [documentation](https://www.tensorflow.org/api_docs/python/math_ops/).)\n",
        "\n",
        "### Addition"
      ],
      "metadata": {
        "id": "xd6q7qg4wy_6"
      }
    },
    {
      "cell_type": "code",
      "source": [
        "x = tf.add(5, 2)  # 7\n",
        "with tf.Session() as sess:\n",
        "    output = sess.run(x)\n",
        "    print(output)"
      ],
      "metadata": {
        "id": "tjcCdMGOtQoD"
      },
      "execution_count": 3,
      "outputs": []
    },
    {
      "cell_type": "markdown",
      "source": [
        "Let's start with the add function. The `tf.add()` function does exactly what you expect it to do. It takes in two numbers, two tensors, or one of each, and returns their sum as a tensor.\n",
        "\n",
        "### Subraction and Multiplication"
      ],
      "metadata": {
        "id": "R60a1DL6w7oZ"
      }
    },
    {
      "cell_type": "code",
      "source": [
        "x = tf.subtract(10, 4) # 6\n",
        "y = tf.multiply(2, 5)  # 10"
      ],
      "metadata": {
        "id": "3OG9ERAStQlR"
      },
      "execution_count": 3,
      "outputs": []
    },
    {
      "cell_type": "markdown",
      "source": [
        "The `x` tensor will evaluate to `6`, because `10 - 4 = 6`. The `y` tensor will evaluate to `10`, because `2 * 5 = 10`. That was easy!\n",
        "\n",
        "### Converting Types\n",
        "\n",
        "It may be necessary to convert between types to make certain operators work together. For example, if you tried the following, it would fail with an exception:"
      ],
      "metadata": {
        "id": "JyKli2g7xCWD"
      }
    },
    {
      "cell_type": "markdown",
      "source": [
        "## TensorFlow Linear Functions\n",
        "\n",
        "The most common operation in neural networks is calculating the linear combination of inputs, weights, and biases. As a reminder, we can write the output of the linear operation as:\n",
        "\n",
        "![](https://d17h27t6h515a5.cloudfront.net/topher/2017/February/58a4d8b3_linear-equation/linear-equation.gif)\n",
        "\n",
        "Here, **W** is a matrix of the weights connecting two layers. The output **y**, the input **x**, and the biases **b** are all vectors.\n",
        "\n",
        "### Weights and Bias in TensorFlow\n",
        "\n",
        "The goal of training a neural network is to modify weights and biases to best predict the labels. In order to use weights and bias, you'll need a Tensor that can be modified. This leaves out `tf.placeholder()` and `tf.constant()`, since those Tensors can't be modified. This is where `tf.Variable` class comes in.\n",
        "\n",
        "### tf.Variable()"
      ],
      "metadata": {
        "id": "dSb2TH2RxLoj"
      }
    },
    {
      "cell_type": "code",
      "source": [
        "x = tf.Variable(5)"
      ],
      "metadata": {
        "id": "U-07mRtbtQiO"
      },
      "execution_count": 3,
      "outputs": []
    },
    {
      "cell_type": "markdown",
      "source": [
        "The `tf.Variable` class creates a tensor with an initial value that can be modified, much like a normal Python variable. This tensor stores its state in the session, so you must initialize the state of the tensor manually. You'll use the `tf.global_variables_initializer()` function to initialize the state of all the Variable tensors:"
      ],
      "metadata": {
        "id": "ZoJG-Th_xTLp"
      }
    },
    {
      "cell_type": "code",
      "source": [
        "init = tf.global_variables_initializer()\n",
        "with tf.Session() as sess:\n",
        "    sess.run(init)"
      ],
      "metadata": {
        "id": "cMXnwv6_tQfO"
      },
      "execution_count": 3,
      "outputs": []
    },
    {
      "cell_type": "markdown",
      "source": [
        "The `tf.global_variables_initializer()` call returns an operation that will initialize all TensorFlow variables from the graph. You call the operation using a session to initialize all the variables as shown above. Using the `tf.Variable` class allows us to change the weights and bias, but an initial value needs to be chosen.\n",
        "\n",
        "Initializing the weights with random numbers from a normal distribution is good practice. Randomizing the weights helps the model from becoming stuck in the same place every time you train it. You'll learn more about this in the next lesson, gradient descent.\n",
        "\n",
        "Similarly, choosing weights from a normal distribution prevents any one weight from overwhelming other weights. We'll use the `tf.truncated_normal()` function to generate random numbers from a normal distribution.\n",
        "\n",
        "### tf.truncated_normal()"
      ],
      "metadata": {
        "id": "eXcT8eJ7xdow"
      }
    },
    {
      "cell_type": "code",
      "source": [
        "n_features = 120\n",
        "n_labels = 5\n",
        "weights = tf.Variable(tf.truncated_normal((n_features, n_labels)))\n",
        "\n",
        "weights"
      ],
      "metadata": {
        "id": "xD0JBOqhtQY6"
      },
      "execution_count": 3,
      "outputs": []
    },
    {
      "cell_type": "markdown",
      "source": [
        "The `tf.truncated_normal()` function returns a tensor with random values from a normal distribution whose magnitude is no more than 2 standard deviations from the mean.\n",
        "\n",
        "Since the weights are already helping prevent the model from getting stuck, you don't need to randomize the bias. Let's use the simplest solution, setting the bias to 0.\n",
        "\n",
        "### tf.zeros()"
      ],
      "metadata": {
        "id": "LhB5MgWjxnCB"
      }
    },
    {
      "cell_type": "code",
      "source": [
        "n_labels = 5\n",
        "bias = tf.Variable(tf.zeros(n_labels))"
      ],
      "metadata": {
        "id": "rRjh6sqAtQVs"
      },
      "execution_count": 3,
      "outputs": []
    },
    {
      "cell_type": "markdown",
      "source": [
        "The `tf.zeros()` function returns a tensor with all zeros.\n",
        "\n",
        "## TensorFlow Softmax\n",
        "\n",
        "The softmax function squashes it's inputs, typically called **logits** or **logit scores**, to be between 0 and 1 and also normalizes the outputs such that they all sum to 1. This means the output of the softmax function is equivalent to a categorical probability distribution. It's the perfect function to use as the output activation for a network predicting multiple classes.\n",
        "\n",
        "![](https://d17h27t6h515a5.cloudfront.net/topher/2017/February/58950908_softmax-input-output/softmax-input-output.png)\n",
        "\n",
        "We're using TensorFlow to build neural networks and, appropriately, there's a function for calculating softmax."
      ],
      "metadata": {
        "id": "vRobTxG3xuPj"
      }
    },
    {
      "cell_type": "code",
      "source": [
        "import tensorflow as tf\n",
        "\n",
        "\n",
        "def run_2():\n",
        "    output = None\n",
        "    logit_data = [19,354,354,45,354,54]\n",
        "    logits = tf.placeholder(tf.float32)\n",
        "    \n",
        "    # Calculate the softmax of the logits\n",
        "    softmax = tf.nn.softmax(logits)   \n",
        "    \n",
        "    with tf.Session() as sess:\n",
        "        # Feed in the logit data\n",
        "        output = sess.run(softmax, feed_dict={logits: logit_data})\n",
        "\n",
        "    return output\n",
        "\n",
        "print(run_2())"
      ],
      "metadata": {
        "id": "-UhG34lxtQSK"
      },
      "execution_count": 3,
      "outputs": []
    },
    {
      "cell_type": "markdown",
      "source": [
        "## One-Hot Encoding\n",
        "\n",
        "Transforming your labels into one-hot encoded vectors is pretty simple with scikit-learn using `LabelBinarizer`. Check it out below!"
      ],
      "metadata": {
        "id": "SIo8ETHcx8Qz"
      }
    },
    {
      "cell_type": "markdown",
      "source": [
        "## TensorFlow Cross Entropy\n",
        "\n",
        "In the Intro to TFLearn lesson we discussed using cross entropy as the cost function for classification with one-hot encoded labels. Again, TensorFlow has a function to do the cross entropy calculations for us.\n",
        "\n",
        "![](https://d17h27t6h515a5.cloudfront.net/topher/2017/February/589b18f5_cross-entropy-diagram/cross-entropy-diagram.png)\n",
        "\n",
        "To create a cross entropy function in TensorFlow, you'll need to use two new functions:\n",
        "\n",
        "* `tf.reduce_sum()`\n",
        "* `tf.log()`\n",
        "\n",
        "### Reduce Sum"
      ],
      "metadata": {
        "id": "FmZCvHtsyBB5"
      }
    },
    {
      "cell_type": "code",
      "source": [
        "x = tf.reduce_sum([1, 2, 3, 4, 5])  # 15"
      ],
      "metadata": {
        "id": "88z-wtqrtQPS"
      },
      "execution_count": 3,
      "outputs": []
    },
    {
      "cell_type": "markdown",
      "source": [
        "The `tf.reduce_sum()` function takes an array of numbers and sums them together.\n",
        "\n",
        "### Natural Log"
      ],
      "metadata": {
        "id": "mZ-DV9eqyJAu"
      }
    },
    {
      "cell_type": "code",
      "source": [
        "l = tf.log(100.0)  # 4.60517"
      ],
      "metadata": {
        "id": "FMmPOjg_tQMS"
      },
      "execution_count": 3,
      "outputs": []
    },
    {
      "cell_type": "markdown",
      "source": [
        "This function does exactly what you would expect it to do. `tf.log()` takes the natural log of a number.\n",
        "\n",
        "### Example\n",
        "\n",
        "Print the cross entropy using `softmax_data` and `one_hot_encod_label`."
      ],
      "metadata": {
        "id": "NX_tpkx-yQ-n"
      }
    },
    {
      "cell_type": "code",
      "source": [
        "import tensorflow as tf\n",
        "\n",
        "softmax_data = [0.7, 0.2, 0.1]\n",
        "one_hot_data = [1.0, 0.0, 0.0]\n",
        "\n",
        "softmax = tf.placeholder(tf.float32)\n",
        "one_hot = tf.placeholder(tf.float32)\n",
        "\n",
        "# Print cross entropy from session\n",
        "cross_entropy = -tf.reduce_sum(tf.multiply(one_hot, tf.log(softmax)))\n",
        "\n",
        "with tf.Session() as session:\n",
        "    output = session.run(cross_entropy, feed_dict={one_hot: one_hot_data, softmax: softmax_data})\n",
        "    print(output)\n"
      ],
      "metadata": {
        "id": "YV_Z1ZMMtPHg"
      },
      "execution_count": 3,
      "outputs": []
    },
    {
      "cell_type": "markdown",
      "source": [
        "## Mini-batching\n",
        "\n",
        "\n",
        "Mini-batching is a technique for training on subsets of the dataset instead of all the data at one time. This provides the ability to train a model, even if a computer lacks the memory to store the entire dataset.\n",
        "\n",
        "Mini-batching is computationally inefficient, since you can't calculate the loss simultaneously across all samples. However, this is a small price to pay in order to be able to run the model at all.\n",
        "\n",
        "It's also quite useful combined with SGD. The idea is to randomly shuffle the data at the start of each epoch, then create the mini-batches. For each mini-batch, you train the network weights with gradient descent. Since these batches are random, you're performing SGD with each batch.\n",
        "\n",
        "\n",
        "\n",
        "## Epochs\n",
        "\n",
        "An epoch is a single forward and backward pass of the whole dataset. This is used to increase the accuracy of the model without requiring more data. "
      ],
      "metadata": {
        "id": "SX0fS1yfyZiy"
      }
    },
    {
      "cell_type": "code",
      "source": [],
      "metadata": {
        "id": "52H_vm9gtPNC"
      },
      "execution_count": 3,
      "outputs": []
    }
  ]
}